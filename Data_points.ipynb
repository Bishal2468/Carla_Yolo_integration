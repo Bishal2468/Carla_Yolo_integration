{
 "cells": [
  {
   "cell_type": "code",
   "execution_count": 1,
   "metadata": {},
   "outputs": [],
   "source": [
    "from config import *\n",
    "import cv2\n",
    "import numpy as np\n",
    "from config import IMAGE_WIDTH, IMAGE_HEIGHT\n",
    "from carla_utils.carla_manager import CarlaManager\n",
    "from carla_utils.sensor_manager import SensorManager\n",
    "from yolo_utils.yolo_manager import YoloManager\n",
    "from utils.helpers import process_image"
   ]
  },
  {
   "cell_type": "code",
   "execution_count": 2,
   "metadata": {},
   "outputs": [],
   "source": [
    " # Initialize managers\n",
    "carla_manager = CarlaManager()\n",
    "\n",
    "# Change the map\n",
    "carla_manager.world = carla_manager.client.load_world(CARLA_MAP)\n",
    "vehicle = carla_manager.spawn_vehicle()\n",
    "\n",
    "sensor_manager = SensorManager(carla_manager.world, vehicle)\n",
    "yolo_manager = YoloManager()\n"
   ]
  },
  {
   "cell_type": "code",
   "execution_count": 3,
   "metadata": {},
   "outputs": [
    {
     "name": "stdout",
     "output_type": "stream",
     "text": [
      "Town03\n"
     ]
    }
   ],
   "source": [
    "#define environment/world and get possible places to spawn a car\n",
    "world = client.get_world()\n",
    "print(world.get_map().name)\n",
    "spawn_points = world.get_map().get_spawn_points()\n",
    "#look for a blueprint of Mini car\n",
    "vehicle_bp = world.get_blueprint_library().filter('*mini*')\n",
    "\n",
    "start_point = spawn_points[0]\n",
    "vehicle = world.try_spawn_actor(vehicle_bp[0], start_point)\n",
    "\n",
    "\n",
    "\n",
    "\n",
    "\n",
    "\n",
    "#camera mount offset on the car - you can tweak these to have the car in view or not\n",
    "CAMERA_POS_Z = 3 \n",
    "CAMERA_POS_X = -5 \n",
    "\n",
    "camera_bp = world.get_blueprint_library().find('sensor.camera.rgb')\n",
    "camera_bp.set_attribute('image_size_x', '640') \n",
    "camera_bp.set_attribute('image_size_y', '360')\n",
    "\n",
    "camera_init_trans = carla.Transform(carla.Location(z=CAMERA_POS_Z,x=CAMERA_POS_X))\n",
    "\n",
    "#this creates the camera in the sim\n",
    "camera = world.spawn_actor(camera_bp,camera_init_trans,attach_to=vehicle)\n",
    "\n",
    "def camera_callback(image,data_dict):\n",
    "    data_dict['image'] = np.reshape(np.copy(image.raw_data),(image.height,image.width,4))\n",
    "\n",
    "image_w = camera_bp.get_attribute('image_size_x').as_int()\n",
    "image_h = camera_bp.get_attribute('image_size_y').as_int()\n",
    "\n",
    "camera_data = {'image': np.zeros((image_h,image_w,4))}\n",
    "# this actually opens a live stream from the camera\n",
    "camera.listen(lambda image: camera_callback(image,camera_data))"
   ]
  },
  {
   "cell_type": "code",
   "execution_count": 4,
   "metadata": {},
   "outputs": [
    {
     "ename": "TypeError",
     "evalue": "setup() takes 1 positional argument but 2 were given",
     "output_type": "error",
     "traceback": [
      "\u001b[1;31m---------------------------------------------------------------------------\u001b[0m",
      "\u001b[1;31mTypeError\u001b[0m                                 Traceback (most recent call last)",
      "\u001b[1;32m~\\AppData\\Local\\Temp\\ipykernel_7124\\948785132.py\u001b[0m in \u001b[0;36m<module>\u001b[1;34m\u001b[0m\n\u001b[0;32m     14\u001b[0m \u001b[0mgrp\u001b[0m \u001b[1;33m=\u001b[0m \u001b[0mGlobalRoutePlanner\u001b[0m\u001b[1;33m(\u001b[0m\u001b[0mworld\u001b[0m\u001b[1;33m.\u001b[0m\u001b[0mget_map\u001b[0m\u001b[1;33m(\u001b[0m\u001b[1;33m)\u001b[0m\u001b[1;33m)\u001b[0m\u001b[1;33m\u001b[0m\u001b[1;33m\u001b[0m\u001b[0m\n\u001b[0;32m     15\u001b[0m \u001b[0msampling_resolution\u001b[0m \u001b[1;33m=\u001b[0m \u001b[1;36m1.0\u001b[0m\u001b[1;33m\u001b[0m\u001b[1;33m\u001b[0m\u001b[0m\n\u001b[1;32m---> 16\u001b[1;33m \u001b[0mgrp\u001b[0m\u001b[1;33m.\u001b[0m\u001b[0msetup\u001b[0m\u001b[1;33m(\u001b[0m\u001b[0msampling_resolution\u001b[0m\u001b[1;33m)\u001b[0m\u001b[1;33m\u001b[0m\u001b[1;33m\u001b[0m\u001b[0m\n\u001b[0m\u001b[0;32m     17\u001b[0m \u001b[1;33m\u001b[0m\u001b[0m\n\u001b[0;32m     18\u001b[0m \u001b[1;31m# Define the starting point (e.g., the car's current location)\u001b[0m\u001b[1;33m\u001b[0m\u001b[1;33m\u001b[0m\u001b[1;33m\u001b[0m\u001b[0m\n",
      "\u001b[1;31mTypeError\u001b[0m: setup() takes 1 positional argument but 2 were given"
     ]
    }
   ],
   "source": [
    "import sys\n",
    "\n",
    "# Add CARLA PythonAPI to the system path\n",
    "sys.path.append('C:\\carla\\PythonAPI\\carla')\n",
    "\n",
    "# Import GlobalRoutePlanner\n",
    "from agents.navigation.global_route_planner import GlobalRoutePlanner\n",
    "\n",
    "\n",
    "# Set up the GlobalRoutePlanner\n",
    "#sampling_resolution = 1.0  # Distance between waypoints (in meters)\n",
    "#grp = GlobalRoutePlanner(world.get_map(), sampling_resolution)\n",
    "\n",
    "grp = GlobalRoutePlanner(world.get_map())\n",
    "#sampling_resolution = 1.0\n",
    "#grp.setup(sampling_resolution)\n",
    "\n",
    "# Define the starting point (e.g., the car's current location)\n",
    "start_point = spawn_points[0]  # Replace with the actual starting point\n",
    "point_a = start_point.location\n",
    "\n",
    "# Find the longest route\n",
    "distance = 0\n",
    "route = None\n",
    "for loc in spawn_points:\n",
    "    try:\n",
    "        cur_route = grp.trace_route(point_a, loc.location)\n",
    "        if len(cur_route) > distance:\n",
    "            distance = len(cur_route)\n",
    "            route = cur_route\n",
    "    except Exception as e:\n",
    "        print(f\"Error computing route: {e}\")\n",
    "        continue\n",
    "\n",
    "# Visualize the route\n",
    "if route:\n",
    "    for i in range(len(route) - 1):\n",
    "        world.debug.draw_line(\n",
    "            route[i][0].transform.location, route[i + 1][0].transform.location,\n",
    "            thickness=0.1, color=carla.Color(r=0, g=255, b=0), life_time=60.0\n",
    "        )\n",
    "    print(f\"Longest route found with {distance} waypoints.\")\n",
    "else:\n",
    "    print(\"No valid route found.\")\n",
    "\n",
    "\n",
    "\n",
    "\n",
    "\n",
    "\n",
    "#draw the route in sim window - Note it does not get into the camera of the car\n",
    "#for waypoint in route:\n",
    " #   world.debug.draw_string(waypoint[0].transform.location, '^', draw_shadow=False,\n",
    "  #      color=carla.Color(r=0, g=0, b=255), life_time=60.0,\n",
    "   #     persistent_lines=True)"
   ]
  },
  {
   "cell_type": "code",
   "execution_count": null,
   "metadata": {},
   "outputs": [],
   "source": [
    "# the cheating loop of moving the car along the route\n",
    "for waypoint in route:\n",
    "    \n",
    "    # move the car to current waypoint\n",
    "    vehicle.set_transform(waypoint[0].transform)\n",
    "    # Dispaly with imshow\n",
    "    cv2.imshow('Fake self-driving',camera_data['image'])\n",
    "    cv2.waitKey(50)\n",
    "    \n",
    "time.sleep(2)\n",
    "cv2.destroyAllWindows()\n",
    "camera.stop() # this is the opposite of camera.listen\n",
    "for actor in world.get_actors().filter('*vehicle*'):\n",
    "    actor.destroy()\n",
    "for sensor in world.get_actors().filter('*sensor*'):\n",
    "    sensor.destroy()"
   ]
  }
 ],
 "metadata": {
  "kernelspec": {
   "display_name": "Python 3 (ipykernel)",
   "language": "python",
   "name": "python3"
  },
  "language_info": {
   "codemirror_mode": {
    "name": "ipython",
    "version": 3
   },
   "file_extension": ".py",
   "mimetype": "text/x-python",
   "name": "python",
   "nbconvert_exporter": "python",
   "pygments_lexer": "ipython3",
   "version": "3.7.16"
  }
 },
 "nbformat": 4,
 "nbformat_minor": 2
}
